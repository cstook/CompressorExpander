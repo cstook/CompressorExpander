{
 "cells": [
  {
   "cell_type": "markdown",
   "metadata": {},
   "source": [
    "![](compressorexpanderdiagram.svg)"
   ]
  },
  {
   "cell_type": "markdown",
   "metadata": {},
   "source": [
    "$P_{ch}$ = Pressure at compressor output<br>\n",
    "$P_{cl}$ = Pressure at compressor input<br>\n",
    "$P_{eh}$ = Pressure at expander input<br>\n",
    "$P_{el}$ = Pressure at expander output<br>\n",
    "$V_c$ = Volume of fluid in compressor<br>\n",
    "$V_e$ = Volume of fluid in expander<br>\n",
    "$r$ = radius of piston<br>\n",
    "$d_1$ = half length of piston<br>\n",
    "$d_2$ = half length of cylinder<br>"
   ]
  },
  {
   "cell_type": "markdown",
   "metadata": {},
   "source": []
  },
  {
   "cell_type": "markdown",
   "metadata": {},
   "source": []
  }
 ],
 "metadata": {
  "kernelspec": {
   "display_name": "Julia 1.0.3",
   "language": "julia",
   "name": "julia-1.0"
  },
  "language_info": {
   "file_extension": ".jl",
   "mimetype": "application/julia",
   "name": "julia",
   "version": "1.0.3"
  }
 },
 "nbformat": 4,
 "nbformat_minor": 2
}

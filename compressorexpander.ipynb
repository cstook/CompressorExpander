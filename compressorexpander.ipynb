{
 "cells": [
  {
   "cell_type": "markdown",
   "metadata": {},
   "source": [
    "# Compressor / Expander"
   ]
  },
  {
   "cell_type": "markdown",
   "metadata": {},
   "source": [
    "![](compressorexpanderdiagram.svg)"
   ]
  },
  {
   "cell_type": "markdown",
   "metadata": {},
   "source": [
    "$P_{ch}, T_{ch}$ = Pressure, temperature at compressor output<br>\n",
    "$P_{cl}, T_{cl}$ = Pressure, temperature at compressor input<br>\n",
    "$P_{eh}, T_{eh}$ = Pressure, temperature at expander input<br>\n",
    "$P_{el}, T_{el}$ = Pressure, temperature at expander output<br>\n",
    "$P_c, V_c, T_c$ = Pressure, volume, temperature of fluid in compressor<br>\n",
    "$P_e, V_e, T_e$ = Pressure, volume, temperature of fluid in expander<br>\n",
    "$r$ = radius of piston<br>\n",
    "$d_1$ = half length of piston<br>\n",
    "$d_2$ = half length of cylinder<br>\n",
    "$x$ = position of piston; centered at x=0<br>\n",
    "$\\gamma = \\frac{C_P}{C_V}$ = ratio of molar heat capacities<br>\n",
    "$F$ = force on piston<br>\n",
    "$m$ = mass of piston"
   ]
  },
  {
   "cell_type": "markdown",
   "metadata": {},
   "source": [
    "\\begin{equation*}\n",
    "\\frac{dP}{P}+\\gamma\\frac{dV}{V}=0\n",
    "\\end{equation*}"
   ]
  },
  {
   "cell_type": "markdown",
   "metadata": {},
   "source": [
    "\\begin{align}\n",
    "V_c & = \\pi r^2 (d_2-d_1+x)\\\\\n",
    "V_e & = \\pi r^2 (d_2-d_1-x)\\\\\n",
    "dV_c & = \\pi r^2 dx\\\\\n",
    "dV_e & = -\\pi r^2 dx\\\\\n",
    "\\end{align}"
   ]
  },
  {
   "cell_type": "markdown",
   "metadata": {},
   "source": [
    "\\begin{align}\n",
    "dP_c & = -\\gamma P_c \\frac{dx}{d_2-d_1+x}\\\\\n",
    "dP_e & = \\gamma P_e \\frac{dx}{d_2-d_1-x}\n",
    "\\end{align}"
   ]
  },
  {
   "cell_type": "markdown",
   "metadata": {},
   "source": [
    "\\begin{equation*}\n",
    "T_{final} = T_{initial}\\frac{P_{final}T_{final}}{P_{initial}T_{initial}}\n",
    "\\end{equation*}"
   ]
  },
  {
   "cell_type": "markdown",
   "metadata": {},
   "source": [
    "\\begin{equation*}\n",
    "F = \\pi r^2(P_c-P_e)+F_{magnetic}\n",
    "\\end{equation*}"
   ]
  },
  {
   "cell_type": "markdown",
   "metadata": {},
   "source": []
  },
  {
   "cell_type": "markdown",
   "metadata": {},
   "source": [
    "## System of equations\n",
    "### constants\n",
    "\\begin{align}\n",
    "c_1 & = \\pi r^2\\\\\n",
    "c_2 & = d_2-d_1\n",
    "\\end{align}\n",
    "### with all valves closed\n",
    "\\begin{align}\n",
    "\\dot{x} & = \\dot{x}\\\\\n",
    "\\ddot{x} & = \\frac{c_1(P_c-P_e)+F_{magnetic}}{m}\\\\\n",
    "\\dot{P_c} & = -\\gamma P_c \\frac{\\dot{x}}{c_2+x}\\\\\n",
    "\\dot{P_e} & = \\gamma P_e \\frac{\\dot{x}}{c_2-x}\\\\\n",
    "\\end{align}"
   ]
  },
  {
   "cell_type": "markdown",
   "metadata": {},
   "source": []
  },
  {
   "cell_type": "markdown",
   "metadata": {},
   "source": []
  },
  {
   "cell_type": "markdown",
   "metadata": {},
   "source": []
  },
  {
   "cell_type": "code",
   "execution_count": null,
   "metadata": {},
   "outputs": [],
   "source": []
  },
  {
   "cell_type": "code",
   "execution_count": null,
   "metadata": {},
   "outputs": [],
   "source": []
  },
  {
   "cell_type": "code",
   "execution_count": null,
   "metadata": {},
   "outputs": [],
   "source": []
  },
  {
   "cell_type": "markdown",
   "metadata": {},
   "source": [
    "## Links\n",
    "[Adiabatic Processes for an Ideal Gas](https://phys.libretexts.org/Bookshelves/University_Physics/Book%3A_University_Physics_(OpenStax)/Map%3A_University_Physics_II_-_Thermodynamics%2C_Electricity%2C_and_Magnetism_(OpenStax)/3%3A_The_First_Law_of_Thermodynamics/3.6%3A_Adiabatic_Processes_for_an_Ideal_Gas)"
   ]
  }
 ],
 "metadata": {
  "kernelspec": {
   "display_name": "Julia 1.0.3",
   "language": "julia",
   "name": "julia-1.0"
  },
  "language_info": {
   "file_extension": ".jl",
   "mimetype": "application/julia",
   "name": "julia",
   "version": "1.0.3"
  }
 },
 "nbformat": 4,
 "nbformat_minor": 2
}
